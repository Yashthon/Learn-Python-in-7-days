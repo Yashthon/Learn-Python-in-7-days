{
  "nbformat": 4,
  "nbformat_minor": 0,
  "metadata": {
    "colab": {
      "name": "Stings.ipynb",
      "provenance": [],
      "collapsed_sections": [],
      "authorship_tag": "ABX9TyOvwous9iIbepdueGXK5D+G",
      "include_colab_link": true
    },
    "kernelspec": {
      "name": "python3",
      "display_name": "Python 3"
    },
    "language_info": {
      "name": "python"
    }
  },
  "cells": [
    {
      "cell_type": "markdown",
      "metadata": {
        "id": "view-in-github",
        "colab_type": "text"
      },
      "source": [
        "<a href=\"https://colab.research.google.com/github/Yashthon/Learn-Python-in-7-days/blob/main/Stings.ipynb\" target=\"_parent\"><img src=\"https://colab.research.google.com/assets/colab-badge.svg\" alt=\"Open In Colab\"/></a>"
      ]
    },
    {
      "cell_type": "markdown",
      "source": [
        " I. From Learn Python in 7 days--- from pages 52 to 69 solve the examples"
      ],
      "metadata": {
        "id": "CQJJMnHW-hzO"
      }
    },
    {
      "cell_type": "markdown",
      "source": [
        "Python strings"
      ],
      "metadata": {
        "id": "F9qGCsBtseOj"
      }
    },
    {
      "cell_type": "code",
      "execution_count": null,
      "metadata": {
        "colab": {
          "base_uri": "https://localhost:8080/",
          "height": 35
        },
        "id": "BqzQJHP8q-bF",
        "outputId": "ad85caff-2f86-43ea-d5a6-6e7bbcd146d8"
      },
      "outputs": [
        {
          "output_type": "execute_result",
          "data": {
            "application/vnd.google.colaboratory.intrinsic+json": {
              "type": "string"
            },
            "text/plain": [
              "'satyamev jayate'"
            ]
          },
          "metadata": {},
          "execution_count": 18
        }
      ],
      "source": [
        "str1 = \"satyamev jayate\"\n",
        "str1"
      ]
    },
    {
      "cell_type": "code",
      "source": [
        "id(str1)"
      ],
      "metadata": {
        "colab": {
          "base_uri": "https://localhost:8080/"
        },
        "id": "vJqI0UlWxPWx",
        "outputId": "18c2e681-8f3d-4355-d6ef-e621512a1267"
      },
      "execution_count": null,
      "outputs": [
        {
          "output_type": "execute_result",
          "data": {
            "text/plain": [
              "139938976202416"
            ]
          },
          "metadata": {},
          "execution_count": 19
        }
      ]
    },
    {
      "cell_type": "code",
      "source": [
        "str1 = \"Leapx\"\n",
        "id(str1)"
      ],
      "metadata": {
        "colab": {
          "base_uri": "https://localhost:8080/"
        },
        "id": "-tZ7qRw-xSAw",
        "outputId": "6b144537-f2dd-4f7f-a86b-9c79ed9c919b"
      },
      "execution_count": null,
      "outputs": [
        {
          "output_type": "execute_result",
          "data": {
            "text/plain": [
              "139938976015856"
            ]
          },
          "metadata": {},
          "execution_count": 20
        }
      ]
    },
    {
      "cell_type": "code",
      "source": [
        "# !pip install ctypes\n",
        "# import ctypes\n",
        "# ctypes.cast(015856, ctypes.py_object).value"
      ],
      "metadata": {
        "colab": {
          "base_uri": "https://localhost:8080/"
        },
        "id": "Pf0pVyVCxyjw",
        "outputId": "17d521e9-59d8-4783-857e-976849a5e91a"
      },
      "execution_count": null,
      "outputs": [
        {
          "output_type": "stream",
          "name": "stdout",
          "text": [
            "\u001b[31mERROR: Could not find a version that satisfies the requirement ctypes (from versions: none)\u001b[0m\n",
            "\u001b[31mERROR: No matching distribution found for ctypes\u001b[0m\n"
          ]
        }
      ]
    },
    {
      "cell_type": "code",
      "source": [
        "a = \"hello jarvis\"\n",
        "len(a)"
      ],
      "metadata": {
        "colab": {
          "base_uri": "https://localhost:8080/"
        },
        "id": "H42k7aHvyJvX",
        "outputId": "ed481cfa-9b9a-4629-9cad-4f8e2b33f90e"
      },
      "execution_count": null,
      "outputs": [
        {
          "output_type": "execute_result",
          "data": {
            "text/plain": [
              "12"
            ]
          },
          "metadata": {},
          "execution_count": 1
        }
      ]
    },
    {
      "cell_type": "code",
      "source": [
        "b= \"\"\n",
        "len(b)"
      ],
      "metadata": {
        "colab": {
          "base_uri": "https://localhost:8080/"
        },
        "id": "QK72bmWiyf3X",
        "outputId": "2c64d767-64c7-4fab-a9ec-1dd9b26d386e"
      },
      "execution_count": null,
      "outputs": [
        {
          "output_type": "execute_result",
          "data": {
            "text/plain": [
              "0"
            ]
          },
          "metadata": {},
          "execution_count": 2
        }
      ]
    },
    {
      "cell_type": "markdown",
      "source": [
        "# The subscript operator"
      ],
      "metadata": {
        "id": "dsrTkC4oyrJd"
      }
    },
    {
      "cell_type": "code",
      "source": [
        "name = \"The Avengers\"\n",
        "name[0]"
      ],
      "metadata": {
        "colab": {
          "base_uri": "https://localhost:8080/",
          "height": 35
        },
        "id": "aA7_pcUSynDE",
        "outputId": "8b9fe511-03d6-435d-b0b2-3f7cad197725"
      },
      "execution_count": null,
      "outputs": [
        {
          "output_type": "execute_result",
          "data": {
            "application/vnd.google.colaboratory.intrinsic+json": {
              "type": "string"
            },
            "text/plain": [
              "'T'"
            ]
          },
          "metadata": {},
          "execution_count": 2
        }
      ]
    },
    {
      "cell_type": "code",
      "source": [
        "len(name)"
      ],
      "metadata": {
        "colab": {
          "base_uri": "https://localhost:8080/"
        },
        "id": "y22fxn0NyyGN",
        "outputId": "c8a1b81f-45b4-45f9-d0fb-6821f73eefdd"
      },
      "execution_count": null,
      "outputs": [
        {
          "output_type": "execute_result",
          "data": {
            "text/plain": [
              "12"
            ]
          },
          "metadata": {},
          "execution_count": 3
        }
      ]
    },
    {
      "cell_type": "code",
      "source": [
        "name[11]"
      ],
      "metadata": {
        "colab": {
          "base_uri": "https://localhost:8080/",
          "height": 35
        },
        "id": "NJzbpRBszSAR",
        "outputId": "c40cfaaf-fd90-43d4-c17d-733bb858748d"
      },
      "execution_count": null,
      "outputs": [
        {
          "output_type": "execute_result",
          "data": {
            "application/vnd.google.colaboratory.intrinsic+json": {
              "type": "string"
            },
            "text/plain": [
              "'s'"
            ]
          },
          "metadata": {},
          "execution_count": 4
        }
      ]
    },
    {
      "cell_type": "code",
      "source": [
        "name[-1]"
      ],
      "metadata": {
        "colab": {
          "base_uri": "https://localhost:8080/",
          "height": 35
        },
        "id": "Jh8Zdi1gzdmp",
        "outputId": "6f203a85-c496-48b3-f403-6431e2d67725"
      },
      "execution_count": null,
      "outputs": [
        {
          "output_type": "execute_result",
          "data": {
            "application/vnd.google.colaboratory.intrinsic+json": {
              "type": "string"
            },
            "text/plain": [
              "'s'"
            ]
          },
          "metadata": {},
          "execution_count": 5
        }
      ]
    },
    {
      "cell_type": "code",
      "source": [
        "name[-12]"
      ],
      "metadata": {
        "colab": {
          "base_uri": "https://localhost:8080/",
          "height": 35
        },
        "id": "30LsFJ2Y0CuR",
        "outputId": "25ef9a73-e5fa-4563-91bb-dd7a832dcd3d"
      },
      "execution_count": null,
      "outputs": [
        {
          "output_type": "execute_result",
          "data": {
            "application/vnd.google.colaboratory.intrinsic+json": {
              "type": "string"
            },
            "text/plain": [
              "'T'"
            ]
          },
          "metadata": {},
          "execution_count": 8
        }
      ]
    },
    {
      "cell_type": "markdown",
      "source": [
        "# Slicing for substrings"
      ],
      "metadata": {
        "id": "suZgAFzG0aJy"
      }
    },
    {
      "cell_type": "code",
      "source": [
        "name [0:3]"
      ],
      "metadata": {
        "colab": {
          "base_uri": "https://localhost:8080/",
          "height": 35
        },
        "id": "i4f_wRDJ0FGN",
        "outputId": "cf838a10-a7f8-4690-f315-4ca0dca2c3c9"
      },
      "execution_count": null,
      "outputs": [
        {
          "output_type": "execute_result",
          "data": {
            "application/vnd.google.colaboratory.intrinsic+json": {
              "type": "string"
            },
            "text/plain": [
              "'The'"
            ]
          },
          "metadata": {},
          "execution_count": 11
        }
      ]
    },
    {
      "cell_type": "code",
      "source": [
        "name[:6]"
      ],
      "metadata": {
        "colab": {
          "base_uri": "https://localhost:8080/",
          "height": 35
        },
        "id": "p7qfMT531kZq",
        "outputId": "c6401dc5-d6b1-4e1e-fe4a-9816be6ffbc0"
      },
      "execution_count": null,
      "outputs": [
        {
          "output_type": "execute_result",
          "data": {
            "application/vnd.google.colaboratory.intrinsic+json": {
              "type": "string"
            },
            "text/plain": [
              "'The Av'"
            ]
          },
          "metadata": {},
          "execution_count": 12
        }
      ]
    },
    {
      "cell_type": "code",
      "source": [
        "name[4:]"
      ],
      "metadata": {
        "colab": {
          "base_uri": "https://localhost:8080/",
          "height": 35
        },
        "id": "fPL3Ynuf1pUu",
        "outputId": "52c181eb-c905-4437-9015-06e06d8c245e"
      },
      "execution_count": null,
      "outputs": [
        {
          "output_type": "execute_result",
          "data": {
            "application/vnd.google.colaboratory.intrinsic+json": {
              "type": "string"
            },
            "text/plain": [
              "'Avengers'"
            ]
          },
          "metadata": {},
          "execution_count": 13
        }
      ]
    },
    {
      "cell_type": "code",
      "source": [
        "name[::2]"
      ],
      "metadata": {
        "colab": {
          "base_uri": "https://localhost:8080/",
          "height": 35
        },
        "id": "ANRPq81Y1rTP",
        "outputId": "17094df8-779c-491c-d934-da6bc6f38da9"
      },
      "execution_count": null,
      "outputs": [
        {
          "output_type": "execute_result",
          "data": {
            "application/vnd.google.colaboratory.intrinsic+json": {
              "type": "string"
            },
            "text/plain": [
              "'TeAegr'"
            ]
          },
          "metadata": {},
          "execution_count": 14
        }
      ]
    },
    {
      "cell_type": "code",
      "source": [
        "name[::-1]"
      ],
      "metadata": {
        "colab": {
          "base_uri": "https://localhost:8080/",
          "height": 35
        },
        "id": "Ui-9IViH1tR3",
        "outputId": "0715fbd6-6e36-4621-9522-a1a60a72d9b9"
      },
      "execution_count": null,
      "outputs": [
        {
          "output_type": "execute_result",
          "data": {
            "application/vnd.google.colaboratory.intrinsic+json": {
              "type": "string"
            },
            "text/plain": [
              "'sregnevA ehT'"
            ]
          },
          "metadata": {},
          "execution_count": 15
        }
      ]
    },
    {
      "cell_type": "markdown",
      "source": [
        "# Python string methods"
      ],
      "metadata": {
        "id": "-_9STtl811Aw"
      }
    },
    {
      "cell_type": "code",
      "source": [
        "str1 = 'The Avengers'\n",
        "str1.count(\"e\")"
      ],
      "metadata": {
        "colab": {
          "base_uri": "https://localhost:8080/"
        },
        "id": "hIhAq4om1xKw",
        "outputId": "fd68766d-e18b-4905-b9b9-76aee6f98539"
      },
      "execution_count": null,
      "outputs": [
        {
          "output_type": "execute_result",
          "data": {
            "text/plain": [
              "3"
            ]
          },
          "metadata": {},
          "execution_count": 21
        }
      ]
    },
    {
      "cell_type": "code",
      "source": [
        "str1.count(\"e\",5,12)"
      ],
      "metadata": {
        "colab": {
          "base_uri": "https://localhost:8080/"
        },
        "id": "w7JQ8dm-1-9I",
        "outputId": "f580c4f9-c074-48f0-b5af-a8f30b5d8619"
      },
      "execution_count": null,
      "outputs": [
        {
          "output_type": "execute_result",
          "data": {
            "text/plain": [
              "2"
            ]
          },
          "metadata": {},
          "execution_count": 22
        }
      ]
    },
    {
      "cell_type": "code",
      "source": [
        "# find()\n",
        "str1 = \"peace begins with a smile\"\n",
        "str1.find(\"with\")"
      ],
      "metadata": {
        "colab": {
          "base_uri": "https://localhost:8080/"
        },
        "id": "z8Ld0xTJ2lS3",
        "outputId": "4669d016-b604-4cba-972c-38dfa792303c"
      },
      "execution_count": null,
      "outputs": [
        {
          "output_type": "execute_result",
          "data": {
            "text/plain": [
              "13"
            ]
          },
          "metadata": {},
          "execution_count": 24
        }
      ]
    },
    {
      "cell_type": "code",
      "source": [
        "str1 = \"what we think, we become\"\n",
        "str1.find(\"we\")"
      ],
      "metadata": {
        "colab": {
          "base_uri": "https://localhost:8080/"
        },
        "id": "1j5nf8O72xOS",
        "outputId": "b6adb2e0-069b-48dc-e7b1-eadb375548cf"
      },
      "execution_count": null,
      "outputs": [
        {
          "output_type": "execute_result",
          "data": {
            "text/plain": [
              "5"
            ]
          },
          "metadata": {},
          "execution_count": 25
        }
      ]
    },
    {
      "cell_type": "markdown",
      "source": [
        "# String case methods"
      ],
      "metadata": {
        "id": "IuYIfdY83Gtj"
      }
    },
    {
      "cell_type": "code",
      "source": [
        "name.lower()"
      ],
      "metadata": {
        "colab": {
          "base_uri": "https://localhost:8080/",
          "height": 35
        },
        "id": "E-Z_K_F-27uY",
        "outputId": "a9a04b95-5ded-4a03-b865-30a07038ccdd"
      },
      "execution_count": null,
      "outputs": [
        {
          "output_type": "execute_result",
          "data": {
            "application/vnd.google.colaboratory.intrinsic+json": {
              "type": "string"
            },
            "text/plain": [
              "'the avengers'"
            ]
          },
          "metadata": {},
          "execution_count": 26
        }
      ]
    },
    {
      "cell_type": "code",
      "source": [
        "name.upper()"
      ],
      "metadata": {
        "colab": {
          "base_uri": "https://localhost:8080/",
          "height": 35
        },
        "id": "aPooN8TS3T2O",
        "outputId": "041b291e-f0e6-4482-ccd6-8a73d3e809cb"
      },
      "execution_count": null,
      "outputs": [
        {
          "output_type": "execute_result",
          "data": {
            "application/vnd.google.colaboratory.intrinsic+json": {
              "type": "string"
            },
            "text/plain": [
              "'THE AVENGERS'"
            ]
          },
          "metadata": {},
          "execution_count": 27
        }
      ]
    },
    {
      "cell_type": "code",
      "source": [
        "name.capitalize()"
      ],
      "metadata": {
        "colab": {
          "base_uri": "https://localhost:8080/",
          "height": 35
        },
        "id": "wsGrDJVc3X3_",
        "outputId": "16f22845-34f2-41b3-e4f7-cc960a3e8a88"
      },
      "execution_count": null,
      "outputs": [
        {
          "output_type": "execute_result",
          "data": {
            "application/vnd.google.colaboratory.intrinsic+json": {
              "type": "string"
            },
            "text/plain": [
              "'The avengers'"
            ]
          },
          "metadata": {},
          "execution_count": 28
        }
      ]
    },
    {
      "cell_type": "code",
      "source": [
        "name.title()"
      ],
      "metadata": {
        "colab": {
          "base_uri": "https://localhost:8080/",
          "height": 35
        },
        "id": "sP2RroI33ezw",
        "outputId": "81a23617-842b-4ea2-ac0d-4cd34a5ce645"
      },
      "execution_count": null,
      "outputs": [
        {
          "output_type": "execute_result",
          "data": {
            "application/vnd.google.colaboratory.intrinsic+json": {
              "type": "string"
            },
            "text/plain": [
              "'The Avengers'"
            ]
          },
          "metadata": {},
          "execution_count": 29
        }
      ]
    },
    {
      "cell_type": "code",
      "source": [
        "name.swapcase()"
      ],
      "metadata": {
        "colab": {
          "base_uri": "https://localhost:8080/",
          "height": 35
        },
        "id": "pwIaZ_ci3i7p",
        "outputId": "f4c8d5b1-ed76-4563-8771-22fa60954b9e"
      },
      "execution_count": null,
      "outputs": [
        {
          "output_type": "execute_result",
          "data": {
            "application/vnd.google.colaboratory.intrinsic+json": {
              "type": "string"
            },
            "text/plain": [
              "'tHE aVENGERS'"
            ]
          },
          "metadata": {},
          "execution_count": 30
        }
      ]
    },
    {
      "cell_type": "code",
      "source": [
        "name.swapcase()"
      ],
      "metadata": {
        "colab": {
          "base_uri": "https://localhost:8080/",
          "height": 35
        },
        "id": "UbIAMehQ3p6I",
        "outputId": "71718aaf-a87d-4e5f-84ef-ae544b472692"
      },
      "execution_count": null,
      "outputs": [
        {
          "output_type": "execute_result",
          "data": {
            "application/vnd.google.colaboratory.intrinsic+json": {
              "type": "string"
            },
            "text/plain": [
              "'tHE aVENGERS'"
            ]
          },
          "metadata": {},
          "execution_count": 31
        }
      ]
    },
    {
      "cell_type": "markdown",
      "source": [
        "# String strip methods"
      ],
      "metadata": {
        "id": "qeA55cnt4F9N"
      }
    },
    {
      "cell_type": "code",
      "source": [
        "str1 = \" Dr Ambedkarn \"\n",
        "str1.rstrip(\"n\")"
      ],
      "metadata": {
        "colab": {
          "base_uri": "https://localhost:8080/",
          "height": 35
        },
        "id": "CWbs4G403uOQ",
        "outputId": "c85e6b68-22c5-4e40-a075-19222356c16e"
      },
      "execution_count": null,
      "outputs": [
        {
          "output_type": "execute_result",
          "data": {
            "application/vnd.google.colaboratory.intrinsic+json": {
              "type": "string"
            },
            "text/plain": [
              "' Dr Ambedkarn '"
            ]
          },
          "metadata": {},
          "execution_count": 36
        }
      ]
    },
    {
      "cell_type": "code",
      "source": [
        "str1"
      ],
      "metadata": {
        "colab": {
          "base_uri": "https://localhost:8080/",
          "height": 35
        },
        "id": "nTWHGG5c4Mn1",
        "outputId": "e02cd63c-645e-40f9-af66-81234faeaabc"
      },
      "execution_count": null,
      "outputs": [
        {
          "output_type": "execute_result",
          "data": {
            "application/vnd.google.colaboratory.intrinsic+json": {
              "type": "string"
            },
            "text/plain": [
              "' Dr Ambedkarn '"
            ]
          },
          "metadata": {},
          "execution_count": 37
        }
      ]
    },
    {
      "cell_type": "code",
      "source": [
        "str1.strip()"
      ],
      "metadata": {
        "colab": {
          "base_uri": "https://localhost:8080/",
          "height": 35
        },
        "id": "DeKr-ERJ4bUC",
        "outputId": "424b30a0-c453-4f24-d341-69921354e45e"
      },
      "execution_count": null,
      "outputs": [
        {
          "output_type": "execute_result",
          "data": {
            "application/vnd.google.colaboratory.intrinsic+json": {
              "type": "string"
            },
            "text/plain": [
              "'Dr Ambedkarn'"
            ]
          },
          "metadata": {},
          "execution_count": 38
        }
      ]
    },
    {
      "cell_type": "code",
      "source": [
        "str1.lstrip()"
      ],
      "metadata": {
        "colab": {
          "base_uri": "https://localhost:8080/",
          "height": 35
        },
        "id": "iI0Wm1_m4gyF",
        "outputId": "4a1f8a55-fe74-44eb-f419-08167343ff4f"
      },
      "execution_count": null,
      "outputs": [
        {
          "output_type": "execute_result",
          "data": {
            "application/vnd.google.colaboratory.intrinsic+json": {
              "type": "string"
            },
            "text/plain": [
              "'Dr Ambedkarn '"
            ]
          },
          "metadata": {},
          "execution_count": 39
        }
      ]
    },
    {
      "cell_type": "code",
      "source": [
        "str1.rstrip()"
      ],
      "metadata": {
        "colab": {
          "base_uri": "https://localhost:8080/",
          "height": 35
        },
        "id": "zvYB5weX4oTx",
        "outputId": "d0bc4c30-1a3b-485d-8463-ecfb4abad790"
      },
      "execution_count": null,
      "outputs": [
        {
          "output_type": "execute_result",
          "data": {
            "application/vnd.google.colaboratory.intrinsic+json": {
              "type": "string"
            },
            "text/plain": [
              "' Dr Ambedkarn'"
            ]
          },
          "metadata": {},
          "execution_count": 40
        }
      ]
    },
    {
      "cell_type": "markdown",
      "source": [
        "## String split methods"
      ],
      "metadata": {
        "id": "9AgAJG024tMF"
      }
    },
    {
      "cell_type": "code",
      "source": [
        "str1 = \"27-12-2016\"\n",
        "str1.split(\"-\")"
      ],
      "metadata": {
        "colab": {
          "base_uri": "https://localhost:8080/"
        },
        "id": "i0flu7Li4qVn",
        "outputId": "97fdad74-f995-443b-9132-8a354d10aa4f"
      },
      "execution_count": null,
      "outputs": [
        {
          "output_type": "execute_result",
          "data": {
            "text/plain": [
              "['27', '12', '2016']"
            ]
          },
          "metadata": {},
          "execution_count": 41
        }
      ]
    },
    {
      "cell_type": "code",
      "source": [
        "list1 = str1.split(\"-\")\n",
        "list1[2]"
      ],
      "metadata": {
        "colab": {
          "base_uri": "https://localhost:8080/",
          "height": 35
        },
        "id": "YK3tSrzM451Q",
        "outputId": "5b83e6cb-0868-47f3-d2b9-35db264e13e7"
      },
      "execution_count": null,
      "outputs": [
        {
          "output_type": "execute_result",
          "data": {
            "application/vnd.google.colaboratory.intrinsic+json": {
              "type": "string"
            },
            "text/plain": [
              "'2016'"
            ]
          },
          "metadata": {},
          "execution_count": 42
        }
      ]
    },
    {
      "cell_type": "markdown",
      "source": [
        "# String justify methods"
      ],
      "metadata": {
        "id": "V5TC10Yd5HJr"
      }
    },
    {
      "cell_type": "code",
      "source": [
        "str1= \"Mohit Raj\"\n",
        "str1.ljust(15, \"#\")"
      ],
      "metadata": {
        "colab": {
          "base_uri": "https://localhost:8080/",
          "height": 35
        },
        "id": "N6mbO_2B4-6m",
        "outputId": "0376bce0-6741-422c-c661-920198e3db52"
      },
      "execution_count": null,
      "outputs": [
        {
          "output_type": "execute_result",
          "data": {
            "application/vnd.google.colaboratory.intrinsic+json": {
              "type": "string"
            },
            "text/plain": [
              "'Mohit Raj######'"
            ]
          },
          "metadata": {},
          "execution_count": 43
        }
      ]
    },
    {
      "cell_type": "code",
      "source": [
        "str2= \"Bhaskar Narayan Das\"\n",
        "str2.ljust(15, \"#\")"
      ],
      "metadata": {
        "colab": {
          "base_uri": "https://localhost:8080/",
          "height": 35
        },
        "id": "tU0hsYOA5NW5",
        "outputId": "997ad333-67d9-4d14-ab17-f29be255a88e"
      },
      "execution_count": null,
      "outputs": [
        {
          "output_type": "execute_result",
          "data": {
            "application/vnd.google.colaboratory.intrinsic+json": {
              "type": "string"
            },
            "text/plain": [
              "'Bhaskar Narayan Das'"
            ]
          },
          "metadata": {},
          "execution_count": 44
        }
      ]
    },
    {
      "cell_type": "code",
      "source": [
        "str1= \"Mohit Raj\"\n",
        "str1.rjust(15, \"#\")"
      ],
      "metadata": {
        "colab": {
          "base_uri": "https://localhost:8080/",
          "height": 35
        },
        "id": "fk0I4Ofw5SRM",
        "outputId": "92497f49-6e66-45fc-f089-9f546679f62b"
      },
      "execution_count": null,
      "outputs": [
        {
          "output_type": "execute_result",
          "data": {
            "application/vnd.google.colaboratory.intrinsic+json": {
              "type": "string"
            },
            "text/plain": [
              "'######Mohit Raj'"
            ]
          },
          "metadata": {},
          "execution_count": 45
        }
      ]
    },
    {
      "cell_type": "code",
      "source": [
        "str1= \"Mohit Raj\"\n",
        "str1.center(16, \"#\")"
      ],
      "metadata": {
        "colab": {
          "base_uri": "https://localhost:8080/",
          "height": 35
        },
        "id": "Lyd-Imsr5nvQ",
        "outputId": "98c0778e-f876-429c-9006-7c5bfe9e5a73"
      },
      "execution_count": null,
      "outputs": [
        {
          "output_type": "execute_result",
          "data": {
            "application/vnd.google.colaboratory.intrinsic+json": {
              "type": "string"
            },
            "text/plain": [
              "'###Mohit Raj####'"
            ]
          },
          "metadata": {},
          "execution_count": 46
        }
      ]
    },
    {
      "cell_type": "code",
      "source": [
        "acc_no = \"3214567987\"\n",
        "acc_no.zfill(15)"
      ],
      "metadata": {
        "colab": {
          "base_uri": "https://localhost:8080/",
          "height": 35
        },
        "id": "wty4eBvL5q1v",
        "outputId": "4bed888e-98a7-41e6-bb40-9574f7645b54"
      },
      "execution_count": null,
      "outputs": [
        {
          "output_type": "execute_result",
          "data": {
            "application/vnd.google.colaboratory.intrinsic+json": {
              "type": "string"
            },
            "text/plain": [
              "'000003214567987'"
            ]
          },
          "metadata": {},
          "execution_count": 47
        }
      ]
    },
    {
      "cell_type": "code",
      "source": [
        "binary_num = \"10101010\"\n",
        "binary_num.zfill(16)"
      ],
      "metadata": {
        "colab": {
          "base_uri": "https://localhost:8080/",
          "height": 35
        },
        "id": "skGWk3lC5wp7",
        "outputId": "5d1f2d6d-e11f-48fd-c835-7cab9a380cd8"
      },
      "execution_count": null,
      "outputs": [
        {
          "output_type": "execute_result",
          "data": {
            "application/vnd.google.colaboratory.intrinsic+json": {
              "type": "string"
            },
            "text/plain": [
              "'0000000010101010'"
            ]
          },
          "metadata": {},
          "execution_count": 48
        }
      ]
    },
    {
      "cell_type": "code",
      "source": [
        "# replace()\n",
        "str1 = \"time is great and time is money\"\n",
        "str1.replace(\"is\",\"was\")"
      ],
      "metadata": {
        "colab": {
          "base_uri": "https://localhost:8080/",
          "height": 35
        },
        "id": "3PMTPNvt54KG",
        "outputId": "644c9960-824a-4927-efed-c48b1e3a6e98"
      },
      "execution_count": null,
      "outputs": [
        {
          "output_type": "execute_result",
          "data": {
            "application/vnd.google.colaboratory.intrinsic+json": {
              "type": "string"
            },
            "text/plain": [
              "'time was great and time was money'"
            ]
          },
          "metadata": {},
          "execution_count": 49
        }
      ]
    },
    {
      "cell_type": "code",
      "source": [
        "str1"
      ],
      "metadata": {
        "colab": {
          "base_uri": "https://localhost:8080/",
          "height": 35
        },
        "id": "IOsFBbtP60xM",
        "outputId": "2054f47d-8bd9-443f-f332-dede266dccae"
      },
      "execution_count": null,
      "outputs": [
        {
          "output_type": "execute_result",
          "data": {
            "application/vnd.google.colaboratory.intrinsic+json": {
              "type": "string"
            },
            "text/plain": [
              "'time is great and time is money'"
            ]
          },
          "metadata": {},
          "execution_count": 51
        }
      ]
    },
    {
      "cell_type": "code",
      "source": [
        "# str1.replace(\"is\",1)\n",
        "str1.replace(\"is\",\"was\",1)"
      ],
      "metadata": {
        "colab": {
          "base_uri": "https://localhost:8080/",
          "height": 35
        },
        "id": "Cx2mW6Ur6410",
        "outputId": "90935aee-ed16-408f-f558-64b87efcfed0"
      },
      "execution_count": null,
      "outputs": [
        {
          "output_type": "execute_result",
          "data": {
            "application/vnd.google.colaboratory.intrinsic+json": {
              "type": "string"
            },
            "text/plain": [
              "'time was great and time is money'"
            ]
          },
          "metadata": {},
          "execution_count": 53
        }
      ]
    },
    {
      "cell_type": "code",
      "source": [
        "# join()\n",
        "name = [\"Mohit\",\"raj\"]\n",
        "\" \".join(name)"
      ],
      "metadata": {
        "colab": {
          "base_uri": "https://localhost:8080/",
          "height": 35
        },
        "id": "LyHfxrMU7AJS",
        "outputId": "a4a54c2f-0827-4e33-b4a6-54daef156f8f"
      },
      "execution_count": null,
      "outputs": [
        {
          "output_type": "execute_result",
          "data": {
            "application/vnd.google.colaboratory.intrinsic+json": {
              "type": "string"
            },
            "text/plain": [
              "'Mohit raj'"
            ]
          },
          "metadata": {},
          "execution_count": 54
        }
      ]
    },
    {
      "cell_type": "code",
      "source": [
        "\"\".join(name)"
      ],
      "metadata": {
        "colab": {
          "base_uri": "https://localhost:8080/",
          "height": 35
        },
        "id": "3UpxuX_J7bw3",
        "outputId": "3ff6dd09-3d85-4149-a641-d2d98720be1d"
      },
      "execution_count": null,
      "outputs": [
        {
          "output_type": "execute_result",
          "data": {
            "application/vnd.google.colaboratory.intrinsic+json": {
              "type": "string"
            },
            "text/plain": [
              "'Mohitraj'"
            ]
          },
          "metadata": {},
          "execution_count": 55
        }
      ]
    },
    {
      "cell_type": "code",
      "source": [
        "\"-\".join(name)"
      ],
      "metadata": {
        "colab": {
          "base_uri": "https://localhost:8080/",
          "height": 35
        },
        "id": "GUQlomI27jNH",
        "outputId": "3f56c6c1-7a89-4187-9f32-eea80a30ee64"
      },
      "execution_count": null,
      "outputs": [
        {
          "output_type": "execute_result",
          "data": {
            "application/vnd.google.colaboratory.intrinsic+json": {
              "type": "string"
            },
            "text/plain": [
              "'Mohit-raj'"
            ]
          },
          "metadata": {},
          "execution_count": 56
        }
      ]
    },
    {
      "cell_type": "markdown",
      "source": [
        "# String Boolean methods"
      ],
      "metadata": {
        "id": "k8gbRKIQ7pwi"
      }
    },
    {
      "cell_type": "code",
      "source": [
        "str1 = \"Life should be great rather than long\"\n",
        "str1.endswith(\"ng\")"
      ],
      "metadata": {
        "colab": {
          "base_uri": "https://localhost:8080/"
        },
        "id": "ewFDWB3f7lRm",
        "outputId": "9f687001-c191-4d3e-e56d-642d963e8753"
      },
      "execution_count": null,
      "outputs": [
        {
          "output_type": "execute_result",
          "data": {
            "text/plain": [
              "True"
            ]
          },
          "metadata": {},
          "execution_count": 57
        }
      ]
    },
    {
      "cell_type": "code",
      "source": [
        "str1.endswith(\"er\")"
      ],
      "metadata": {
        "colab": {
          "base_uri": "https://localhost:8080/"
        },
        "id": "y9ynHnG37uWS",
        "outputId": "9008eb82-c50d-462e-ef2e-c47006b34b9d"
      },
      "execution_count": null,
      "outputs": [
        {
          "output_type": "execute_result",
          "data": {
            "text/plain": [
              "False"
            ]
          },
          "metadata": {},
          "execution_count": 58
        }
      ]
    },
    {
      "cell_type": "code",
      "source": [
        "str1.endswith(\"er\",0,27)"
      ],
      "metadata": {
        "colab": {
          "base_uri": "https://localhost:8080/"
        },
        "id": "J3ppWojV7wij",
        "outputId": "c02d6452-2e3e-434f-8ce2-b0da905ac2aa"
      },
      "execution_count": null,
      "outputs": [
        {
          "output_type": "execute_result",
          "data": {
            "text/plain": [
              "True"
            ]
          },
          "metadata": {},
          "execution_count": 59
        }
      ]
    },
    {
      "cell_type": "code",
      "source": [
        "# startswith()\n",
        "str1.startswith(\"Li\")"
      ],
      "metadata": {
        "colab": {
          "base_uri": "https://localhost:8080/"
        },
        "id": "Zu0it7Kb7yQ6",
        "outputId": "b0c967eb-051c-4b9d-8d33-429e974e27c3"
      },
      "execution_count": null,
      "outputs": [
        {
          "output_type": "execute_result",
          "data": {
            "text/plain": [
              "True"
            ]
          },
          "metadata": {},
          "execution_count": 60
        }
      ]
    },
    {
      "cell_type": "code",
      "source": [
        "str1.startswith(\"be\", 11)"
      ],
      "metadata": {
        "colab": {
          "base_uri": "https://localhost:8080/"
        },
        "id": "NhFUacYM748I",
        "outputId": "19e60cbb-e396-429f-83cf-f07161f3ef18"
      },
      "execution_count": null,
      "outputs": [
        {
          "output_type": "execute_result",
          "data": {
            "text/plain": [
              "False"
            ]
          },
          "metadata": {},
          "execution_count": 61
        }
      ]
    },
    {
      "cell_type": "code",
      "source": [
        "str1.startswith(\"be\", 12, 16)"
      ],
      "metadata": {
        "colab": {
          "base_uri": "https://localhost:8080/"
        },
        "id": "eZ4XtBGT764X",
        "outputId": "00fa9439-0709-47dd-ce78-16d10de36a83"
      },
      "execution_count": null,
      "outputs": [
        {
          "output_type": "execute_result",
          "data": {
            "text/plain": [
              "True"
            ]
          },
          "metadata": {},
          "execution_count": 62
        }
      ]
    },
    {
      "cell_type": "code",
      "source": [
        "# isalpha()\n",
        "str1 = \"Hello\"\n",
        "str1.isalpha()"
      ],
      "metadata": {
        "colab": {
          "base_uri": "https://localhost:8080/"
        },
        "id": "00xcb82n79Lj",
        "outputId": "5e157730-c4b5-43c8-84ed-90cbae7c8da5"
      },
      "execution_count": null,
      "outputs": [
        {
          "output_type": "execute_result",
          "data": {
            "text/plain": [
              "True"
            ]
          },
          "metadata": {},
          "execution_count": 63
        }
      ]
    },
    {
      "cell_type": "code",
      "source": [
        "str2 = \"Hello 123\"\n",
        "str2.isalpha()"
      ],
      "metadata": {
        "colab": {
          "base_uri": "https://localhost:8080/"
        },
        "id": "jfyhB_Qr8CMZ",
        "outputId": "bc32499e-dd7d-486a-dc6b-4814cac0d455"
      },
      "execution_count": null,
      "outputs": [
        {
          "output_type": "execute_result",
          "data": {
            "text/plain": [
              "False"
            ]
          },
          "metadata": {},
          "execution_count": 64
        }
      ]
    },
    {
      "cell_type": "code",
      "source": [
        "str3 = \"hello \"\n",
        "str2.isalpha()"
      ],
      "metadata": {
        "id": "OM7x8wb78E90"
      },
      "execution_count": null,
      "outputs": []
    },
    {
      "cell_type": "code",
      "source": [
        "# isalnum()\n",
        "str1 = \"Hello123\"\n",
        "str1.isalnum()"
      ],
      "metadata": {
        "colab": {
          "base_uri": "https://localhost:8080/"
        },
        "id": "AQZi6xuE8Hzj",
        "outputId": "d7de5988-d77e-43d5-b317-fbd742654ca0"
      },
      "execution_count": null,
      "outputs": [
        {
          "output_type": "execute_result",
          "data": {
            "text/plain": [
              "True"
            ]
          },
          "metadata": {},
          "execution_count": 66
        }
      ]
    },
    {
      "cell_type": "code",
      "source": [
        "str2 = \"Hello123#\"\n",
        "str2.isalnum()"
      ],
      "metadata": {
        "colab": {
          "base_uri": "https://localhost:8080/"
        },
        "id": "Tho9CyPz8MjO",
        "outputId": "7218d280-40a1-422e-c579-3005a4d1ad58"
      },
      "execution_count": null,
      "outputs": [
        {
          "output_type": "execute_result",
          "data": {
            "text/plain": [
              "False"
            ]
          },
          "metadata": {},
          "execution_count": 67
        }
      ]
    },
    {
      "cell_type": "code",
      "source": [
        "# str.isdigit()\n",
        "str1 = \"12345\"\n",
        "str1.isdigit()"
      ],
      "metadata": {
        "colab": {
          "base_uri": "https://localhost:8080/"
        },
        "id": "QCHpS0PF8O9z",
        "outputId": "db709861-0855-4285-8924-6ac17b654f58"
      },
      "execution_count": null,
      "outputs": [
        {
          "output_type": "execute_result",
          "data": {
            "text/plain": [
              "True"
            ]
          },
          "metadata": {},
          "execution_count": 68
        }
      ]
    },
    {
      "cell_type": "code",
      "source": [
        "str2 = \"123456H\"\n",
        "str2.isdigit()"
      ],
      "metadata": {
        "colab": {
          "base_uri": "https://localhost:8080/"
        },
        "id": "YH_-Gecu8U0T",
        "outputId": "039fdc09-4077-48f4-feb3-433d5d1ed456"
      },
      "execution_count": null,
      "outputs": [
        {
          "output_type": "execute_result",
          "data": {
            "text/plain": [
              "False"
            ]
          },
          "metadata": {},
          "execution_count": 69
        }
      ]
    },
    {
      "cell_type": "code",
      "source": [
        "# isspace()\n",
        "str1 = \"hello \"\n",
        "str1.isspace()"
      ],
      "metadata": {
        "colab": {
          "base_uri": "https://localhost:8080/"
        },
        "id": "gLCRU8Hb8XDh",
        "outputId": "9db14d30-603f-4213-e0a5-db3d1062a67a"
      },
      "execution_count": null,
      "outputs": [
        {
          "output_type": "execute_result",
          "data": {
            "text/plain": [
              "False"
            ]
          },
          "metadata": {},
          "execution_count": 70
        }
      ]
    },
    {
      "cell_type": "code",
      "source": [
        "str2 = \" \"\n",
        "str2.isspace()"
      ],
      "metadata": {
        "colab": {
          "base_uri": "https://localhost:8080/"
        },
        "id": "NRU0tSnu8bRh",
        "outputId": "d7326028-8db8-46c7-9751-881ef94b789c"
      },
      "execution_count": null,
      "outputs": [
        {
          "output_type": "execute_result",
          "data": {
            "text/plain": [
              "True"
            ]
          },
          "metadata": {},
          "execution_count": 71
        }
      ]
    },
    {
      "cell_type": "code",
      "source": [
        "str1.istitle()"
      ],
      "metadata": {
        "colab": {
          "base_uri": "https://localhost:8080/"
        },
        "id": "nNyZUqlM8gCY",
        "outputId": "37f22a9c-a57b-4ff3-99d8-7b03966b9545"
      },
      "execution_count": null,
      "outputs": [
        {
          "output_type": "execute_result",
          "data": {
            "text/plain": [
              "False"
            ]
          },
          "metadata": {},
          "execution_count": 72
        }
      ]
    },
    {
      "cell_type": "code",
      "source": [
        "str2.istitle()"
      ],
      "metadata": {
        "colab": {
          "base_uri": "https://localhost:8080/"
        },
        "id": "hM0Q_1tu8lk7",
        "outputId": "9d00066c-3840-4d99-c8f7-94b00fddc580"
      },
      "execution_count": null,
      "outputs": [
        {
          "output_type": "execute_result",
          "data": {
            "text/plain": [
              "False"
            ]
          },
          "metadata": {},
          "execution_count": 73
        }
      ]
    },
    {
      "cell_type": "code",
      "source": [
        "# str.islower()\n",
        "str1 = \"mohit\"\n",
        "str1.islower()"
      ],
      "metadata": {
        "colab": {
          "base_uri": "https://localhost:8080/"
        },
        "id": "TfgTQjmm8pwh",
        "outputId": "75559a79-38f8-4c54-a4f2-b79808a0ae21"
      },
      "execution_count": null,
      "outputs": [
        {
          "output_type": "execute_result",
          "data": {
            "text/plain": [
              "True"
            ]
          },
          "metadata": {},
          "execution_count": 74
        }
      ]
    },
    {
      "cell_type": "code",
      "source": [
        "str1 = \"Mohit\"\n",
        "str1.islower()"
      ],
      "metadata": {
        "colab": {
          "base_uri": "https://localhost:8080/"
        },
        "id": "pUmvggIl8vwR",
        "outputId": "56bbcf50-4b6d-4485-f39d-39579c86373b"
      },
      "execution_count": null,
      "outputs": [
        {
          "output_type": "execute_result",
          "data": {
            "text/plain": [
              "False"
            ]
          },
          "metadata": {},
          "execution_count": 75
        }
      ]
    },
    {
      "cell_type": "code",
      "source": [
        "str2 = \"YASH\"\n",
        "str2.isupper()"
      ],
      "metadata": {
        "colab": {
          "base_uri": "https://localhost:8080/"
        },
        "id": "ifowzcG28y07",
        "outputId": "00cdc25a-5569-44d2-9a04-5a72b8a906de"
      },
      "execution_count": null,
      "outputs": [
        {
          "output_type": "execute_result",
          "data": {
            "text/plain": [
              "True"
            ]
          },
          "metadata": {},
          "execution_count": 76
        }
      ]
    },
    {
      "cell_type": "markdown",
      "source": [
        "# String functions"
      ],
      "metadata": {
        "id": "pli5mTYo9OC-"
      }
    },
    {
      "cell_type": "code",
      "source": [
        "# min()\n",
        "# min(str1)\n",
        "str1 = \"Life should be great rather than long\"\n",
        "min(str1)"
      ],
      "metadata": {
        "colab": {
          "base_uri": "https://localhost:8080/",
          "height": 35
        },
        "id": "DehsdKh885kx",
        "outputId": "86688f9e-b2f1-4862-e183-abbbd9973bc8"
      },
      "execution_count": null,
      "outputs": [
        {
          "output_type": "execute_result",
          "data": {
            "application/vnd.google.colaboratory.intrinsic+json": {
              "type": "string"
            },
            "text/plain": [
              "' '"
            ]
          },
          "metadata": {},
          "execution_count": 77
        }
      ]
    },
    {
      "cell_type": "code",
      "source": [
        "str2 = \"hello!\"\n",
        "min(str2)"
      ],
      "metadata": {
        "colab": {
          "base_uri": "https://localhost:8080/",
          "height": 35
        },
        "id": "tcSfy8ok9Vav",
        "outputId": "1982eb06-9d8e-4b4c-9364-5aaa3a851176"
      },
      "execution_count": null,
      "outputs": [
        {
          "output_type": "execute_result",
          "data": {
            "application/vnd.google.colaboratory.intrinsic+json": {
              "type": "string"
            },
            "text/plain": [
              "'!'"
            ]
          },
          "metadata": {},
          "execution_count": 78
        }
      ]
    },
    {
      "cell_type": "code",
      "source": [
        "str1 = \"Life should be great rather than long\"\n",
        "max(str1)"
      ],
      "metadata": {
        "colab": {
          "base_uri": "https://localhost:8080/",
          "height": 35
        },
        "id": "Zm1LkExu9bvh",
        "outputId": "08ed8103-5b22-480e-e40c-3c587da290b7"
      },
      "execution_count": null,
      "outputs": [
        {
          "output_type": "execute_result",
          "data": {
            "application/vnd.google.colaboratory.intrinsic+json": {
              "type": "string"
            },
            "text/plain": [
              "'u'"
            ]
          },
          "metadata": {},
          "execution_count": 79
        }
      ]
    },
    {
      "cell_type": "code",
      "source": [
        "str2 = \"hello!\"\n",
        "max(str2)"
      ],
      "metadata": {
        "colab": {
          "base_uri": "https://localhost:8080/",
          "height": 35
        },
        "id": "XF5bgj859i3G",
        "outputId": "2b801bc7-54f9-4430-b1c8-6fd02cb88163"
      },
      "execution_count": null,
      "outputs": [
        {
          "output_type": "execute_result",
          "data": {
            "application/vnd.google.colaboratory.intrinsic+json": {
              "type": "string"
            },
            "text/plain": [
              "'o'"
            ]
          },
          "metadata": {},
          "execution_count": 80
        }
      ]
    },
    {
      "cell_type": "code",
      "source": [
        "# str(value)\n",
        "a = 123\n",
        "type(a)"
      ],
      "metadata": {
        "colab": {
          "base_uri": "https://localhost:8080/"
        },
        "id": "jK9u-k-u9pPO",
        "outputId": "174e370f-6612-42f0-eb2a-4ff954d47e54"
      },
      "execution_count": null,
      "outputs": [
        {
          "output_type": "execute_result",
          "data": {
            "text/plain": [
              "int"
            ]
          },
          "metadata": {},
          "execution_count": 81
        }
      ]
    },
    {
      "cell_type": "code",
      "source": [
        "x = str(a)\n",
        "x"
      ],
      "metadata": {
        "colab": {
          "base_uri": "https://localhost:8080/",
          "height": 35
        },
        "id": "vA4KGB2i9w2R",
        "outputId": "5ff4dcb8-545c-4c1e-e0a3-5ea28e2bba53"
      },
      "execution_count": null,
      "outputs": [
        {
          "output_type": "execute_result",
          "data": {
            "application/vnd.google.colaboratory.intrinsic+json": {
              "type": "string"
            },
            "text/plain": [
              "'123'"
            ]
          },
          "metadata": {},
          "execution_count": 85
        }
      ]
    },
    {
      "cell_type": "code",
      "source": [
        "type(x)"
      ],
      "metadata": {
        "colab": {
          "base_uri": "https://localhost:8080/"
        },
        "id": "difQYQJq9y6x",
        "outputId": "5b9d2505-60d7-4f2c-850c-30260a3ac4a7"
      },
      "execution_count": null,
      "outputs": [
        {
          "output_type": "execute_result",
          "data": {
            "text/plain": [
              "str"
            ]
          },
          "metadata": {},
          "execution_count": 86
        }
      ]
    },
    {
      "cell_type": "code",
      "source": [
        "list1 = [1,2]\n",
        "type(list1)"
      ],
      "metadata": {
        "colab": {
          "base_uri": "https://localhost:8080/"
        },
        "id": "C5vQybTC903d",
        "outputId": "3e23eb2c-ce12-449a-c0e9-5629fbf534a8"
      },
      "execution_count": null,
      "outputs": [
        {
          "output_type": "execute_result",
          "data": {
            "text/plain": [
              "list"
            ]
          },
          "metadata": {},
          "execution_count": 87
        }
      ]
    },
    {
      "cell_type": "code",
      "source": [
        "str(list1)"
      ],
      "metadata": {
        "colab": {
          "base_uri": "https://localhost:8080/",
          "height": 35
        },
        "id": "B8VBbFJD989g",
        "outputId": "8b672517-0ea9-4d72-d349-45101d64af05"
      },
      "execution_count": null,
      "outputs": [
        {
          "output_type": "execute_result",
          "data": {
            "application/vnd.google.colaboratory.intrinsic+json": {
              "type": "string"
            },
            "text/plain": [
              "'[1, 2]'"
            ]
          },
          "metadata": {},
          "execution_count": 88
        }
      ]
    },
    {
      "cell_type": "code",
      "source": [
        "str1 = \"Life should be great rather than long\"\n",
        "if \"be\" in str1:\n",
        "  print (\"yes\")"
      ],
      "metadata": {
        "colab": {
          "base_uri": "https://localhost:8080/"
        },
        "id": "GIXGKi9Q9_Kq",
        "outputId": "a57dc5d5-9ea4-44ae-be99-5b2c450e0445"
      },
      "execution_count": null,
      "outputs": [
        {
          "output_type": "stream",
          "name": "stdout",
          "text": [
            "yes\n"
          ]
        }
      ]
    },
    {
      "cell_type": "markdown",
      "source": [
        "#II.\n",
        "1. Display following pattern:\n"
      ],
      "metadata": {
        "id": "6IMDkl5j-n6O"
      }
    },
    {
      "cell_type": "code",
      "source": [
        "  rows = int(input(\"Enter rows\"))\n",
        "  for i in range (0, rows):\n",
        "    for j in range (0, i+1):\n",
        "      print(\"* \",end=\"\")\n",
        "    print(\"\\r\")"
      ],
      "metadata": {
        "colab": {
          "base_uri": "https://localhost:8080/"
        },
        "id": "42Hbbg2g-ELt",
        "outputId": "ec1b6c5d-e07b-421b-c5de-adfd795c031f"
      },
      "execution_count": null,
      "outputs": [
        {
          "output_type": "stream",
          "name": "stdout",
          "text": [
            "Enter rows5\n",
            "* \n",
            "* * \n",
            "* * * \n",
            "* * * * \n",
            "* * * * * \n"
          ]
        }
      ]
    },
    {
      "cell_type": "markdown",
      "source": [
        "2. Display following pattern:\n"
      ],
      "metadata": {
        "id": "i2wQSeKeAK_i"
      }
    },
    {
      "cell_type": "code",
      "source": [
        "rows = int(input(\"Enter the number of rows:\"))  \n",
        "k = 2 * rows - 2 \n",
        "for i in range(0, rows):  \n",
        "    for j in range(0, k):  \n",
        "        print(end=\" \")  \n",
        "    k = k - 2\n",
        "    for j in range(0, i + 1):  \n",
        "        print(\"* \", end=\"\")\n",
        "    print(\"\")"
      ],
      "metadata": {
        "colab": {
          "base_uri": "https://localhost:8080/"
        },
        "id": "vDb7C9nJA21X",
        "outputId": "f3444ce5-e4f7-41fa-cc0a-65d4a0c40523"
      },
      "execution_count": null,
      "outputs": [
        {
          "output_type": "stream",
          "name": "stdout",
          "text": [
            "Enter the number of rows:5\n",
            "        * \n",
            "      * * \n",
            "    * * * \n",
            "  * * * * \n",
            "* * * * * \n"
          ]
        }
      ]
    },
    {
      "cell_type": "markdown",
      "source": [
        "3. Display following pattern:\n"
      ],
      "metadata": {
        "id": "4Ixxj0lbCpmy"
      }
    },
    {
      "cell_type": "code",
      "source": [
        "n = int(input(\"Enter rows \"))\n",
        "c = 1  \n",
        "stop = 2  \n",
        "rows = n  \n",
        "for i in range(rows):  \n",
        "    for j in range(1, stop):  \n",
        "        print(c, end=' ')  \n",
        "        c += 1  \n",
        "    print(\"\")  \n",
        "    stop += 1"
      ],
      "metadata": {
        "colab": {
          "base_uri": "https://localhost:8080/"
        },
        "id": "P-Ind0bnCJb7",
        "outputId": "b8abfab3-70af-4d0a-c616-61b47412a448"
      },
      "execution_count": null,
      "outputs": [
        {
          "output_type": "stream",
          "name": "stdout",
          "text": [
            "Enter rows 5\n",
            "1 \n",
            "2 3 \n",
            "4 5 6 \n",
            "7 8 9 10 \n",
            "11 12 13 14 15 \n"
          ]
        }
      ]
    },
    {
      "cell_type": "markdown",
      "source": [
        "4. Display following pattern:"
      ],
      "metadata": {
        "id": "_zH5vbtZDq5a"
      }
    },
    {
      "cell_type": "code",
      "source": [
        "rows = int(input(\"Enter rows \"))\n",
        "for i in range (0, rows):\n",
        "    for j in range (0, i+1):\n",
        "      print(j+1 ,end=\"\")\n",
        "    print(\"\\r\")"
      ],
      "metadata": {
        "colab": {
          "base_uri": "https://localhost:8080/"
        },
        "id": "cCzawhfHEgtB",
        "outputId": "8dcd37db-507b-4ece-daa8-44244afaa55f"
      },
      "execution_count": null,
      "outputs": [
        {
          "output_type": "stream",
          "name": "stdout",
          "text": [
            "Enter rows 5\n",
            "1\n",
            "12\n",
            "123\n",
            "1234\n",
            "12345\n"
          ]
        }
      ]
    },
    {
      "cell_type": "markdown",
      "source": [
        "5. Display following pattern:"
      ],
      "metadata": {
        "id": "iIYnt02FD1g7"
      }
    },
    {
      "cell_type": "code",
      "source": [
        "rows = int(input(\"Enter rows: \"))\n",
        "k = 0\n",
        "for i in range(1, rows+1):\n",
        "    for space in range(1, (rows-i)+1):\n",
        "        print(end=\"  \")\n",
        "   \n",
        "    while k!=(2*i-1):\n",
        "        print(\"* \", end=\"\")\n",
        "        k += 1\n",
        "    k = 0\n",
        "    print()"
      ],
      "metadata": {
        "colab": {
          "base_uri": "https://localhost:8080/"
        },
        "id": "k0aEP6OXDA8Y",
        "outputId": "dfc6c5b7-db2a-40af-b55a-676f46d53606"
      },
      "execution_count": null,
      "outputs": [
        {
          "output_type": "stream",
          "name": "stdout",
          "text": [
            "Enter rows: 5\n",
            "        * \n",
            "      * * * \n",
            "    * * * * * \n",
            "  * * * * * * * \n",
            "* * * * * * * * * \n"
          ]
        }
      ]
    },
    {
      "cell_type": "markdown",
      "source": [
        "6. Write a program to perform following string Operations input: test = &#39;This is\n",
        "just a simple string.&#39;\n",
        "Length\n",
        "Replace\n",
        "Count\n",
        "Find\n",
        "Split String and choose the point that we split it at\n",
        "Re-joining our split string can be done using the join method\n",
        "Capitalize only the first letter of the lowercase string"
      ],
      "metadata": {
        "id": "TBA9QieiFjUK"
      }
    },
    {
      "cell_type": "code",
      "source": [
        "test = 'This is just a simple string.'"
      ],
      "metadata": {
        "id": "pulcZ2DjESBK"
      },
      "execution_count": null,
      "outputs": []
    },
    {
      "cell_type": "code",
      "source": [
        "len(test)"
      ],
      "metadata": {
        "colab": {
          "base_uri": "https://localhost:8080/"
        },
        "id": "GhAh-SiNFtjF",
        "outputId": "a9b50e60-91d2-4732-e078-4ea875ab1e2c"
      },
      "execution_count": null,
      "outputs": [
        {
          "output_type": "execute_result",
          "data": {
            "text/plain": [
              "29"
            ]
          },
          "metadata": {},
          "execution_count": 127
        }
      ]
    },
    {
      "cell_type": "code",
      "source": [
        "test.replace(\"just\",\"\")"
      ],
      "metadata": {
        "colab": {
          "base_uri": "https://localhost:8080/",
          "height": 35
        },
        "id": "691ColUPFysy",
        "outputId": "24804811-77e1-4249-b247-86c347549d7b"
      },
      "execution_count": null,
      "outputs": [
        {
          "output_type": "execute_result",
          "data": {
            "application/vnd.google.colaboratory.intrinsic+json": {
              "type": "string"
            },
            "text/plain": [
              "'This is  a simple string.'"
            ]
          },
          "metadata": {},
          "execution_count": 128
        }
      ]
    },
    {
      "cell_type": "code",
      "source": [
        "test.count(\"i\")"
      ],
      "metadata": {
        "colab": {
          "base_uri": "https://localhost:8080/"
        },
        "id": "Y-PqdaoUF7vF",
        "outputId": "eaeab5d6-0f8b-4fc3-c627-d2aa619bdc3d"
      },
      "execution_count": null,
      "outputs": [
        {
          "output_type": "execute_result",
          "data": {
            "text/plain": [
              "4"
            ]
          },
          "metadata": {},
          "execution_count": 130
        }
      ]
    },
    {
      "cell_type": "code",
      "source": [
        "test.find(\"just\")"
      ],
      "metadata": {
        "colab": {
          "base_uri": "https://localhost:8080/"
        },
        "id": "KT0bc6GMGBlC",
        "outputId": "e737e9cf-a013-4c7a-8377-e93c9cd1e94f"
      },
      "execution_count": null,
      "outputs": [
        {
          "output_type": "execute_result",
          "data": {
            "text/plain": [
              "8"
            ]
          },
          "metadata": {},
          "execution_count": 131
        }
      ]
    },
    {
      "cell_type": "code",
      "source": [
        "a = test.split(\"a\")\n",
        "print(a)"
      ],
      "metadata": {
        "colab": {
          "base_uri": "https://localhost:8080/"
        },
        "id": "N-LVmA0ZGKgh",
        "outputId": "b7c7ed42-ef39-444b-e22b-6726987daedb"
      },
      "execution_count": null,
      "outputs": [
        {
          "output_type": "stream",
          "name": "stdout",
          "text": [
            "['This is just ', ' simple string.']\n"
          ]
        }
      ]
    },
    {
      "cell_type": "code",
      "source": [
        "\"a\".join(a)"
      ],
      "metadata": {
        "colab": {
          "base_uri": "https://localhost:8080/",
          "height": 35
        },
        "id": "nSfC3wF4GZ2X",
        "outputId": "3bed976f-f138-43a6-908e-eb26518f0ade"
      },
      "execution_count": null,
      "outputs": [
        {
          "output_type": "execute_result",
          "data": {
            "application/vnd.google.colaboratory.intrinsic+json": {
              "type": "string"
            },
            "text/plain": [
              "'This is just a simple string.'"
            ]
          },
          "metadata": {},
          "execution_count": 144
        }
      ]
    },
    {
      "cell_type": "code",
      "source": [
        "test.lower()"
      ],
      "metadata": {
        "colab": {
          "base_uri": "https://localhost:8080/",
          "height": 35
        },
        "id": "2V6RV44EHKsX",
        "outputId": "5bdfb580-f0a8-413d-92e5-bf967a38f360"
      },
      "execution_count": null,
      "outputs": [
        {
          "output_type": "execute_result",
          "data": {
            "application/vnd.google.colaboratory.intrinsic+json": {
              "type": "string"
            },
            "text/plain": [
              "'this is just a simple string.'"
            ]
          },
          "metadata": {},
          "execution_count": 146
        }
      ]
    },
    {
      "cell_type": "code",
      "source": [
        "test.capitalize()"
      ],
      "metadata": {
        "colab": {
          "base_uri": "https://localhost:8080/",
          "height": 35
        },
        "id": "y1jIaa6qHzOE",
        "outputId": "31c2b4a3-b317-452b-b9ad-a72579b99e61"
      },
      "execution_count": null,
      "outputs": [
        {
          "output_type": "execute_result",
          "data": {
            "application/vnd.google.colaboratory.intrinsic+json": {
              "type": "string"
            },
            "text/plain": [
              "'This is just a simple string.'"
            ]
          },
          "metadata": {},
          "execution_count": 147
        }
      ]
    },
    {
      "cell_type": "markdown",
      "source": [
        "7. Write a program to modify a string in place:\n",
        "For eg.\n",
        "Input:”Hello, World”\n",
        "Output:”Hello, there!”\n",
        "\n",
        "Output: “yello, world”"
      ],
      "metadata": {
        "id": "-mdI-yVuH_-Y"
      }
    },
    {
      "cell_type": "code",
      "source": [
        "inp='Hello, World'\n",
        "inp.replace('World','there')"
      ],
      "metadata": {
        "colab": {
          "base_uri": "https://localhost:8080/",
          "height": 35
        },
        "id": "CgN3aeyJH3g_",
        "outputId": "5ea051a6-4303-45e7-d119-66c47f97a1d2"
      },
      "execution_count": null,
      "outputs": [
        {
          "output_type": "execute_result",
          "data": {
            "application/vnd.google.colaboratory.intrinsic+json": {
              "type": "string"
            },
            "text/plain": [
              "'Hello, there'"
            ]
          },
          "metadata": {},
          "execution_count": 150
        }
      ]
    },
    {
      "cell_type": "code",
      "source": [
        "inp.replace('Hello','yello')"
      ],
      "metadata": {
        "colab": {
          "base_uri": "https://localhost:8080/",
          "height": 35
        },
        "id": "_xtOhTJdIRVy",
        "outputId": "6cbe7b2e-7780-4f4a-ca35-e671696afc15"
      },
      "execution_count": null,
      "outputs": [
        {
          "output_type": "execute_result",
          "data": {
            "application/vnd.google.colaboratory.intrinsic+json": {
              "type": "string"
            },
            "text/plain": [
              "'yello, World'"
            ]
          },
          "metadata": {},
          "execution_count": 151
        }
      ]
    },
    {
      "cell_type": "markdown",
      "source": [
        "8. Write a program to remove duplicate words from a given string"
      ],
      "metadata": {
        "id": "_dU5kqSJJCPP"
      }
    },
    {
      "cell_type": "code",
      "source": [
        "s = 'Java is a programming language Python is also a programming language '\n",
        "l = s.split()\n",
        "k = []\n",
        "for i in l:\n",
        "  if (s.count(i)>=1 and (i not in k)):\n",
        "        k.append(i)\n",
        "print(' '.join(k))"
      ],
      "metadata": {
        "colab": {
          "base_uri": "https://localhost:8080/"
        },
        "id": "4Sb0gHieI9lW",
        "outputId": "d30681ff-664f-4f81-b3a7-df67a1e40df3"
      },
      "execution_count": null,
      "outputs": [
        {
          "output_type": "stream",
          "name": "stdout",
          "text": [
            "Java is a programming language Python also\n"
          ]
        }
      ]
    },
    {
      "cell_type": "markdown",
      "source": [
        "9. Write a program to remove special characters from a given string"
      ],
      "metadata": {
        "id": "yyuv1KG7sKWl"
      }
    },
    {
      "cell_type": "code",
      "source": [
        "n = input(\"Enter string with special characters : \")\n",
        "new_string = ''.join(char for char in n if char.isalnum())\n",
        "print(new_string)"
      ],
      "metadata": {
        "colab": {
          "base_uri": "https://localhost:8080/"
        },
        "id": "SzzeXX_sJJH-",
        "outputId": "ab8a2142-da56-4b9f-f983-2051573b5b55"
      },
      "execution_count": null,
      "outputs": [
        {
          "output_type": "stream",
          "name": "stdout",
          "text": [
            "Enter string with special characters : hey! what's up?\n",
            "heywhatsup\n"
          ]
        }
      ]
    },
    {
      "cell_type": "markdown",
      "source": [
        "10. Write a program find the common values that appear in two given strings"
      ],
      "metadata": {
        "id": "OCh_MvWMurGP"
      }
    },
    {
      "cell_type": "code",
      "source": [
        "def intersection_of_two_string(str1, str2):\n",
        "    result = \"\"\n",
        "    for ch in str1:\n",
        "        if ch in str2 and not ch in result:\n",
        "            result += ch\n",
        "    return result\n",
        "\n",
        "str1 = input(\"Enter the first string here - \")\n",
        "str2 = input(\"Enter the second string here - \")\n",
        "print(\"Original strings:\")\n",
        "print(str1)\n",
        "print(str2)\n",
        "print(\"\\nIntersection of two  String:\") \n",
        "print(intersection_of_two_string(str1, str2))"
      ],
      "metadata": {
        "colab": {
          "base_uri": "https://localhost:8080/"
        },
        "id": "py0y39gJtRIJ",
        "outputId": "0b20653b-6a59-404b-99ab-b8f53f5e9390"
      },
      "execution_count": null,
      "outputs": [
        {
          "output_type": "stream",
          "name": "stdout",
          "text": [
            "Enter the first string here - Python java\n",
            "Enter the second string here - c Python\n",
            "Original strings:\n",
            "Python java\n",
            "c Python\n",
            "\n",
            "Intersection of two  String:\n",
            "Python \n"
          ]
        }
      ]
    },
    {
      "cell_type": "markdown",
      "source": [
        "11. Write a program to reverse words in a string"
      ],
      "metadata": {
        "id": "Xjokzj33v38P"
      }
    },
    {
      "cell_type": "code",
      "source": [
        "def reverse_word(s, start, end):\n",
        "\twhile start < end:\n",
        "\t\ts[start], s[end] = s[end], s[start]\n",
        "\t\tstart = start + 1\n",
        "\t\tend -= 1\n",
        "s = input(\"Enter Sting here - \")\n",
        "s = list(s)\n",
        "start = 0\n",
        "while True:\n",
        "\ttry:\n",
        "\t\tend = s.index(' ', start)\n",
        "\t\treverse_word(s, start, end - 1)\n",
        "\t\tstart = end + 1\n",
        "\texcept ValueError:\n",
        "\t\treverse_word(s, start, len(s) - 1)\n",
        "\t\tbreak\n",
        "s.reverse()\n",
        "s = \"\".join(s)\n",
        "print(s)"
      ],
      "metadata": {
        "colab": {
          "base_uri": "https://localhost:8080/"
        },
        "id": "ek98kkidvRwz",
        "outputId": "12201c56-5ac9-4b83-c772-2d42c5eabf0c"
      },
      "execution_count": null,
      "outputs": [
        {
          "output_type": "stream",
          "name": "stdout",
          "text": [
            "Enter Sting here - Yash Prajapati\n",
            "Prajapati Yash\n"
          ]
        }
      ]
    },
    {
      "cell_type": "markdown",
      "source": [
        "12. Write a program to count the number of occurrences of all vowels present in\n",
        "a string"
      ],
      "metadata": {
        "id": "c2DvKCTZw_EI"
      }
    },
    {
      "cell_type": "code",
      "source": [
        "string=input(\"Enter string:\")\n",
        "vowels=0\n",
        "for i in string:\n",
        "      if(i=='a' or i=='e' or i=='i' or i=='o' or i=='u' or i=='A' or i=='E' or i=='I' or i=='O' or i=='U'):\n",
        "            vowels=vowels+1\n",
        "print(\"Number of vowels are:\")\n",
        "print(vowels)"
      ],
      "metadata": {
        "colab": {
          "base_uri": "https://localhost:8080/"
        },
        "id": "UFrjiyPIwcEw",
        "outputId": "218dc981-ba94-4df2-e2cd-b198fae71793"
      },
      "execution_count": null,
      "outputs": [
        {
          "output_type": "stream",
          "name": "stdout",
          "text": [
            "Enter string:Yash Prajapati\n",
            "Number of vowels are:\n",
            "5\n"
          ]
        }
      ]
    },
    {
      "cell_type": "markdown",
      "source": [
        "13. Write a program to check whether the given string is palindrome or not"
      ],
      "metadata": {
        "id": "Wttg94MCxYQ4"
      }
    },
    {
      "cell_type": "code",
      "source": [
        "st = input(\"Enter string to be checked - \")\n",
        "j = -1\n",
        "flag = 0\n",
        "for i in st:\n",
        "    if i != st[j]:\n",
        "      j = j - 1\n",
        "      flag = 1\n",
        "      break\n",
        "    j = j - 1\n",
        "if flag == 1:\n",
        "    print(st,\"is not a palindrome\")\n",
        "else:\n",
        "    print(st,\"is a palindrome\")"
      ],
      "metadata": {
        "colab": {
          "base_uri": "https://localhost:8080/"
        },
        "id": "koLCtMGYxJq4",
        "outputId": "1ca27f1e-6581-4b8f-dedd-74ab8989676e"
      },
      "execution_count": null,
      "outputs": [
        {
          "output_type": "stream",
          "name": "stdout",
          "text": [
            "Enter string to be checked - Yash\n",
            "Yash is not a palindrome\n"
          ]
        }
      ]
    },
    {
      "cell_type": "markdown",
      "source": [
        "14. Write a program to convert alternate characters to capital letters"
      ],
      "metadata": {
        "id": "PD7EpU4qzUr0"
      }
    },
    {
      "cell_type": "code",
      "source": [
        "str=input(\"Enter the String:\")\n",
        "j=0\n",
        "newStr=\"\"\n",
        "for i in range(len(str)):\n",
        "    if j%2==1:\n",
        "        if str[i]>='A' and str[i]<='Z' :\n",
        "            ch=chr(ord(str[i])+32)\n",
        "            newStr=newStr+ch\n",
        "        else:\n",
        "            newStr=newStr+str[i]\n",
        "    else:\n",
        "        if str[i] >= 'a' and str[i] <= 'z':\n",
        "            ch=chr(ord(str[i])-32)\n",
        "            newStr=newStr+ch\n",
        "        else:\n",
        "            newStr=newStr+str[i]\n",
        "    if str[i]==' ':\n",
        "        continue\n",
        "    j=j+1\n",
        "print(\"After converting Your String is :\", newStr)"
      ],
      "metadata": {
        "colab": {
          "base_uri": "https://localhost:8080/"
        },
        "id": "GMHtpXgjyMF3",
        "outputId": "5c1a62db-6d4d-41a5-ddf4-86c2d3f48a8e"
      },
      "execution_count": null,
      "outputs": [
        {
          "output_type": "stream",
          "name": "stdout",
          "text": [
            "Enter the String:yash prajapati\n",
            "After converting Your String is : YaSh PrAjApAtI\n"
          ]
        }
      ]
    },
    {
      "cell_type": "markdown",
      "source": [
        "15. Write a program which stores all deleted consonants in a string from the\n",
        "given string: “ Good afternoon, we are implementing strings”"
      ],
      "metadata": {
        "id": "KpivxoEx5nPy"
      }
    },
    {
      "cell_type": "code",
      "source": [
        "test_str = \"Good afternoon, we are implementing strings\"\n",
        "print(\"The original string is : \" + test_str)\n",
        "res = []\n",
        "res2 = []\n",
        "for chr in test_str:\n",
        "    if chr in \"aeiouAEIOU\":\n",
        "        res.extend(chr)\n",
        "    else:\n",
        "      res2.extend(chr)\n",
        "res = \"\".join(res)\n",
        "print(\"Deleted consonants are: \",res2)"
      ],
      "metadata": {
        "colab": {
          "base_uri": "https://localhost:8080/"
        },
        "id": "WRqh35f25X7a",
        "outputId": "24328667-8a93-4c8f-eb41-5232db9870d2"
      },
      "execution_count": null,
      "outputs": [
        {
          "output_type": "stream",
          "name": "stdout",
          "text": [
            "The original string is : Good afternoon, we are implementing strings\n",
            "Deleted consonants are:  ['G', 'd', ' ', 'f', 't', 'r', 'n', 'n', ',', ' ', 'w', ' ', 'r', ' ', 'm', 'p', 'l', 'm', 'n', 't', 'n', 'g', ' ', 's', 't', 'r', 'n', 'g', 's']\n"
          ]
        }
      ]
    },
    {
      "cell_type": "markdown",
      "source": [
        "16. Write a program that accepts sequence of lines as input and prints the lines\n",
        "after making all characters in the sentence capitalized."
      ],
      "metadata": {
        "id": "UoAgoOCe74Z6"
      }
    },
    {
      "cell_type": "code",
      "source": [
        "sentences = []\n",
        "while True:\n",
        "    l = input()\n",
        "    if l:\n",
        "        sentences.append(l.upper())\n",
        "    else:\n",
        "        break;\n",
        "for l in sentences:\n",
        "    print(l)"
      ],
      "metadata": {
        "colab": {
          "base_uri": "https://localhost:8080/"
        },
        "id": "JtTfQhH56PJy",
        "outputId": "f6b9fc14-264a-4402-ce21-f4c3af90364e"
      },
      "execution_count": null,
      "outputs": [
        {
          "output_type": "stream",
          "name": "stdout",
          "text": [
            "Hi\n",
            "Yash\n",
            "here\n",
            "big boss is crap\n",
            "\n",
            "HI\n",
            "YASH\n",
            "HERE\n",
            "BIG BOSS IS CRAP\n"
          ]
        }
      ]
    },
    {
      "cell_type": "markdown",
      "source": [
        "17. Write a program that accepts a sentence and calculate the number of upper\n",
        "case letters and lower case letters."
      ],
      "metadata": {
        "id": "u-VOnTob9ES_"
      }
    },
    {
      "cell_type": "code",
      "source": [
        "s = input(\"Enter string here - \")\n",
        "d = {\"UPPER_CASE\":0, \"LOWER_CASE\":0}\n",
        "for c in s:\n",
        "  if c.isupper():\n",
        "    d[\"UPPER_CASE\"]+=1\n",
        "  elif c.islower():\n",
        "    d[\"LOWER_CASE\"]+=1\n",
        "  else:\n",
        "    pass\n",
        "print (\"No. of Upper case characters : \", d[\"UPPER_CASE\"])\n",
        "print (\"No. of Lower case Characters : \", d[\"LOWER_CASE\"])"
      ],
      "metadata": {
        "colab": {
          "base_uri": "https://localhost:8080/"
        },
        "id": "1v6x7EmO8mGE",
        "outputId": "40139ecf-4781-4d14-9d69-1345b36f112b"
      },
      "execution_count": null,
      "outputs": [
        {
          "output_type": "stream",
          "name": "stdout",
          "text": [
            "Enter string here - Python is the Best programming Language so far\n",
            "No. of Upper case characters :  3\n",
            "No. of Lower case Characters :  36\n"
          ]
        }
      ]
    }
  ]
}